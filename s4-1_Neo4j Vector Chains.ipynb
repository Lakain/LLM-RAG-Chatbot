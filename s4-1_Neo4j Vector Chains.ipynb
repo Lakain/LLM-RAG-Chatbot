{
 "cells": [
  {
   "cell_type": "markdown",
   "metadata": {},
   "source": [
    "## Neo4j Vector Chain"
   ]
  },
  {
   "cell_type": "code",
   "execution_count": 1,
   "metadata": {},
   "outputs": [],
   "source": [
    "import dotenv"
   ]
  },
  {
   "cell_type": "code",
   "execution_count": 2,
   "metadata": {},
   "outputs": [
    {
     "data": {
      "text/plain": [
       "True"
      ]
     },
     "execution_count": 2,
     "metadata": {},
     "output_type": "execute_result"
    }
   ],
   "source": [
    "dotenv.load_dotenv()"
   ]
  },
  {
   "cell_type": "code",
   "execution_count": 3,
   "metadata": {},
   "outputs": [],
   "source": [
    "from chatbot_api.src.chains.hospital_review_chain import (\n",
    "    reviews_vector_chain\n",
    ")"
   ]
  },
  {
   "cell_type": "code",
   "execution_count": 4,
   "metadata": {},
   "outputs": [],
   "source": [
    "query = \"\"\"What have patients said about hospital efficiency?\n",
    "Mention details from specific revies.\"\"\"\n",
    "\n",
    "response = reviews_vector_chain.invoke(query)"
   ]
  },
  {
   "cell_type": "code",
   "execution_count": 5,
   "metadata": {},
   "outputs": [
    {
     "data": {
      "text/plain": [
       "'Patients have mentioned both positive and negative aspects of hospital efficiency in their reviews.\\n\\n- Beverly Johnson mentioned that the hospital had a modern feel, and the staff was attentive at Brown Inc. However, she found the bureaucratic procedures for check-in and discharge to be cumbersome.\\n- Anna Green praised the courteous staff and impressive cleanliness standards at Burch-White. However, she noted that the outdated magazines in the waiting area did little to alleviate boredom during long waits.\\n- Michael Johnson had a mix of positive and negative experiences at Garcia Ltd. While he found the medical care to be competent, he mentioned that the administrative processes were confusing, leading to unnecessary stress.\\n- Jesse Marquez highlighted the excellent medical care provided at Wallace-Hamilton. He also mentioned that the nursing staff was attentive. However, he found the administrative processes to be cumbersome and suggested they could be streamlined for efficiency.'"
      ]
     },
     "execution_count": 5,
     "metadata": {},
     "output_type": "execute_result"
    }
   ],
   "source": [
    "response.get(\"result\")"
   ]
  },
  {
   "cell_type": "markdown",
   "metadata": {},
   "source": [
    "# Cypher Chain"
   ]
  },
  {
   "cell_type": "code",
   "execution_count": 3,
   "metadata": {},
   "outputs": [
    {
     "data": {
      "text/plain": [
       "True"
      ]
     },
     "execution_count": 3,
     "metadata": {},
     "output_type": "execute_result"
    }
   ],
   "source": [
    "import dotenv\n",
    "\n",
    "dotenv.load_dotenv()"
   ]
  },
  {
   "cell_type": "code",
   "execution_count": 4,
   "metadata": {},
   "outputs": [
    {
     "name": "stdout",
     "output_type": "stream",
     "text": [
      "\n",
      "\n",
      "\u001b[1m> Entering new GraphCypherQAChain chain...\u001b[0m\n",
      "Generated Cypher:\n",
      "\u001b[32;1m\u001b[1;3mMATCH (v:Visit)-[:AT]->(h:Hospital)\n",
      "WHERE h.state_name = 'NC' AND v.admission_type = 'Emergency' AND v.status = 'DISCHARGED'\n",
      "WITH v, duration.between(date(v.admission_date), date(v.discharge_date)).days AS visit_duration\n",
      "RETURN AVG(visit_duration) AS average_visit_duration\u001b[0m\n",
      "Full Context:\n",
      "\u001b[32;1m\u001b[1;3m[{'average_visit_duration': 15.072972972972991}]\u001b[0m\n",
      "\n",
      "\u001b[1m> Finished chain.\u001b[0m\n"
     ]
    }
   ],
   "source": [
    "from chatbot_api.src.chains.hospital_cypher_chain import (\n",
    "    hospital_cypher_chain\n",
    ")\n",
    "\n",
    "question = \"\"\"What is the average visit duration for \\\n",
    "emergency visits in North Carolina?\"\"\"\n",
    "\n",
    "response = hospital_cypher_chain.invoke(question)"
   ]
  },
  {
   "cell_type": "code",
   "execution_count": 5,
   "metadata": {},
   "outputs": [
    {
     "data": {
      "text/plain": [
       "'The average visit duration for emergency visits in North Carolina is approximately 15.07 days.'"
      ]
     },
     "execution_count": 5,
     "metadata": {},
     "output_type": "execute_result"
    }
   ],
   "source": [
    "response.get(\"result\")"
   ]
  },
  {
   "cell_type": "code",
   "execution_count": 7,
   "metadata": {},
   "outputs": [
    {
     "name": "stdout",
     "output_type": "stream",
     "text": [
      "\n",
      "\n",
      "\u001b[1m> Entering new GraphCypherQAChain chain...\u001b[0m\n",
      "Generated Cypher:\n",
      "\u001b[32;1m\u001b[1;3mMATCH (h:Hospital)<-[:AT]-(v:Visit)-[:COVERED_BY]->(p:Payer)\n",
      "WHERE p.name = 'Medicaid' AND v.admission_date >= '2022-01-01' AND\n",
      "v.admission_date < '2024-01-01'\n",
      "WITH h.state_name AS state, COUNT(v) AS visit_count,\n",
      "     SUM(CASE WHEN v.admission_date >= '2022-01-01' AND\n",
      "     v.admission_date < '2023-01-01' THEN 1 ELSE 0 END) AS count_2022,\n",
      "     SUM(CASE WHEN v.admission_date >= '2023-01-01' AND\n",
      "     v.admission_date < '2024-01-01' THEN 1 ELSE 0 END) AS count_2023\n",
      "WITH state, visit_count, count_2022, count_2023,\n",
      "     (toFloat(count_2023) - toFloat(count_2022)) / toFloat(count_2022) * 100\n",
      "     AS percent_increase\n",
      "RETURN state, percent_increase\n",
      "ORDER BY percent_increase DESC\n",
      "LIMIT 1\u001b[0m\n",
      "Full Context:\n",
      "\u001b[32;1m\u001b[1;3m[{'state': 'TX', 'percent_increase': 8.823529411764707}]\u001b[0m\n",
      "\n",
      "\u001b[1m> Finished chain.\u001b[0m\n"
     ]
    }
   ],
   "source": [
    "question = \"\"\"Which state had the largest percent increase \\\n",
    "in medicaid visits from 2022 to 2023?\"\"\"\n",
    "\n",
    "response = hospital_cypher_chain.invoke(question)"
   ]
  },
  {
   "cell_type": "code",
   "execution_count": 8,
   "metadata": {},
   "outputs": [
    {
     "data": {
      "text/plain": [
       "'The state with the largest percent increase in Medicaid visits from 2022 to 2023 is Texas (TX) with a percent increase of 8.82%.'"
      ]
     },
     "execution_count": 8,
     "metadata": {},
     "output_type": "execute_result"
    }
   ],
   "source": [
    "response.get(\"result\")"
   ]
  },
  {
   "cell_type": "code",
   "execution_count": null,
   "metadata": {},
   "outputs": [],
   "source": []
  }
 ],
 "metadata": {
  "kernelspec": {
   "display_name": "Chatbot",
   "language": "python",
   "name": "python3"
  },
  "language_info": {
   "codemirror_mode": {
    "name": "ipython",
    "version": 3
   },
   "file_extension": ".py",
   "mimetype": "text/x-python",
   "name": "python",
   "nbconvert_exporter": "python",
   "pygments_lexer": "ipython3",
   "version": "3.11.8"
  }
 },
 "nbformat": 4,
 "nbformat_minor": 2
}
