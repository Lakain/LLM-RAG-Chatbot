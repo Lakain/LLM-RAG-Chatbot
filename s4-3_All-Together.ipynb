{
 "cells": [
  {
   "cell_type": "code",
   "execution_count": 1,
   "metadata": {},
   "outputs": [
    {
     "data": {
      "text/plain": [
       "True"
      ]
     },
     "execution_count": 1,
     "metadata": {},
     "output_type": "execute_result"
    }
   ],
   "source": [
    "import dotenv\n",
    "\n",
    "dotenv.load_dotenv()"
   ]
  },
  {
   "cell_type": "code",
   "execution_count": 2,
   "metadata": {},
   "outputs": [
    {
     "name": "stdout",
     "output_type": "stream",
     "text": [
      "\n",
      "\n",
      "\u001b[1m> Entering new AgentExecutor chain...\u001b[0m\n",
      "\u001b[32;1m\u001b[1;3m\n",
      "Invoking: `Waits` with `Wallace-Hamilton`\n",
      "\n",
      "\n",
      "\u001b[0m\u001b[38;5;200m\u001b[1;3m9 hours 0 minutes\u001b[0m\u001b[32;1m\u001b[1;3mThe current wait time at Wallace-Hamilton is 9 hours.\u001b[0m\n",
      "\n",
      "\u001b[1m> Finished chain.\u001b[0m\n"
     ]
    },
    {
     "data": {
      "text/plain": [
       "'The current wait time at Wallace-Hamilton is 9 hours.'"
      ]
     },
     "execution_count": 2,
     "metadata": {},
     "output_type": "execute_result"
    }
   ],
   "source": [
    "from agents.hospital_rag_agent import hospital_rag_agent_executor\n",
    "\n",
    "response = hospital_rag_agent_executor.invoke(\n",
    "    {\"input\": \"What is the wait time at Wallace-Hamilton?\"}\n",
    ")\n",
    "\n",
    "response.get(\"output\")"
   ]
  },
  {
   "cell_type": "code",
   "execution_count": 3,
   "metadata": {},
   "outputs": [
    {
     "name": "stdout",
     "output_type": "stream",
     "text": [
      "\n",
      "\n",
      "\u001b[1m> Entering new AgentExecutor chain...\u001b[0m\n",
      "\u001b[32;1m\u001b[1;3m\n",
      "Invoking: `Availability` with `shortest wait time`\n",
      "\n",
      "\n",
      "\u001b[0m\u001b[36;1m\u001b[1;3m{'vaughn plc': 9}\u001b[0m\u001b[32;1m\u001b[1;3mThe hospital with the shortest wait time is Vaughn PLC, with a wait time of 9 minutes.\u001b[0m\n",
      "\n",
      "\u001b[1m> Finished chain.\u001b[0m\n"
     ]
    },
    {
     "data": {
      "text/plain": [
       "'The hospital with the shortest wait time is Vaughn PLC, with a wait time of 9 minutes.'"
      ]
     },
     "execution_count": 3,
     "metadata": {},
     "output_type": "execute_result"
    }
   ],
   "source": [
    "response = hospital_rag_agent_executor.invoke(\n",
    "    {\"input\": \"Which hospital has the shortest wait time?\"}\n",
    ")\n",
    "\n",
    "response.get(\"output\")"
   ]
  },
  {
   "cell_type": "code",
   "execution_count": 4,
   "metadata": {},
   "outputs": [
    {
     "name": "stdout",
     "output_type": "stream",
     "text": [
      "\n",
      "\n",
      "\u001b[1m> Entering new AgentExecutor chain...\u001b[0m\n",
      "\u001b[32;1m\u001b[1;3m\n",
      "Invoking: `Experiences` with `quality of rest during their stay`\n",
      "\n",
      "\n",
      "\u001b[0m\u001b[36;1m\u001b[1;3m{'query': 'quality of rest during their stay', 'result': \"Mrs. Kelly Berry DVM mentioned that the noise level in the ward at Vaughn PLC was higher than expected, affecting her rest. Tyler Sanders DVM also had a difficult time at Pugh-Rogers due to the noise level in the shared rooms, impacting his ability to rest and recover. David Kim noted that the noise levels in the hallway at Wallace-Hamilton were disruptive and affected his ability to rest. However, Tammy Benson DVM did not mention noise but stated that the uncomfortable beds at Garcia Ltd made it difficult for her to get a good night's sleep during her stay. Overall, the patients had varying experiences with the quality of rest during their hospital stays, with noise levels and uncomfortable beds being common factors affecting their ability to rest.\"}\u001b[0m\u001b[32;1m\u001b[1;3mPatients have shared varying experiences with the quality of rest during their hospital stays. Some mentioned that the noise level in the ward was higher than expected, affecting their rest. Others had difficulty due to noise levels in shared rooms, disruptive hallway noise, and uncomfortable beds. It seems that noise levels and uncomfortable beds were common factors affecting patients' ability to rest.\u001b[0m\n",
      "\n",
      "\u001b[1m> Finished chain.\u001b[0m\n"
     ]
    },
    {
     "data": {
      "text/plain": [
       "\"Patients have shared varying experiences with the quality of rest during their hospital stays. Some mentioned that the noise level in the ward was higher than expected, affecting their rest. Others had difficulty due to noise levels in shared rooms, disruptive hallway noise, and uncomfortable beds. It seems that noise levels and uncomfortable beds were common factors affecting patients' ability to rest.\""
      ]
     },
     "execution_count": 4,
     "metadata": {},
     "output_type": "execute_result"
    }
   ],
   "source": [
    "response = hospital_rag_agent_executor.invoke(\n",
    "    {\n",
    "        \"input\": (\n",
    "            \"What have patients said about their \"\n",
    "            \"quality of rest during their stay?\"\n",
    "        )\n",
    "    }\n",
    ")\n",
    "\n",
    "response.get(\"output\")"
   ]
  },
  {
   "cell_type": "code",
   "execution_count": 5,
   "metadata": {},
   "outputs": [
    {
     "name": "stdout",
     "output_type": "stream",
     "text": [
      "\n",
      "\n",
      "\u001b[1m> Entering new AgentExecutor chain...\u001b[0m\n",
      "\u001b[32;1m\u001b[1;3m\n",
      "Invoking: `Graph` with `Which physician has treated the most patients covered by Cigna?`\n",
      "\n",
      "\n",
      "\u001b[0m\n",
      "\n",
      "\u001b[1m> Entering new GraphCypherQAChain chain...\u001b[0m\n",
      "Generated Cypher:\n",
      "\u001b[32;1m\u001b[1;3mMATCH (phy:Physician)-[:TREATS]->(v:Visit)-[:COVERED_BY]->(p:Payer)\n",
      "WHERE p.name = 'Cigna'\n",
      "WITH phy, COUNT(DISTINCT v) AS patient_count\n",
      "RETURN phy.name AS physician_name, patient_count\n",
      "ORDER BY patient_count DESC\n",
      "LIMIT 1\u001b[0m\n",
      "Full Context:\n",
      "\u001b[32;1m\u001b[1;3m[{'physician_name': 'Renee Brown', 'patient_count': 10}]\u001b[0m\n",
      "\n",
      "\u001b[1m> Finished chain.\u001b[0m\n",
      "\u001b[33;1m\u001b[1;3m{'query': 'Which physician has treated the most patients covered by Cigna?', 'result': 'The physician who has treated the most patients covered by Cigna is Renee Brown, with a patient count of 10.'}\u001b[0m\u001b[32;1m\u001b[1;3mThe physician who has treated the most patients covered by Cigna is Renee Brown, with a patient count of 10.\u001b[0m\n",
      "\n",
      "\u001b[1m> Finished chain.\u001b[0m\n"
     ]
    },
    {
     "data": {
      "text/plain": [
       "'The physician who has treated the most patients covered by Cigna is Renee Brown, with a patient count of 10.'"
      ]
     },
     "execution_count": 5,
     "metadata": {},
     "output_type": "execute_result"
    }
   ],
   "source": [
    "response = hospital_rag_agent_executor.invoke(\n",
    "    {\n",
    "        \"input\": (\n",
    "            \"Which physician has treated the \"\n",
    "            \"most patients covered by Cigna?\"\n",
    "        )\n",
    "    }\n",
    ")\n",
    "\n",
    "response.get(\"output\")"
   ]
  },
  {
   "cell_type": "code",
   "execution_count": 6,
   "metadata": {},
   "outputs": [
    {
     "name": "stdout",
     "output_type": "stream",
     "text": [
      "\n",
      "\n",
      "\u001b[1m> Entering new AgentExecutor chain...\u001b[0m\n",
      "\u001b[32;1m\u001b[1;3m\n",
      "Invoking: `Experiences` with `Show me reviews written by patient 7674.`\n",
      "\n",
      "\n",
      "\u001b[0m\u001b[36;1m\u001b[1;3m{'query': 'Show me reviews written by patient 7674.', 'result': 'I\\'m sorry, but there are no reviews provided by a patient with the identifier \"7674\" in the context given. If you have any other questions or need information about the reviews provided, feel free to ask.'}\u001b[0m\u001b[32;1m\u001b[1;3mI'm sorry, but there are no reviews provided by a patient with the identifier \"7674\" in the context given. If you have any other questions or need information about the reviews provided, feel free to ask.\u001b[0m\n",
      "\n",
      "\u001b[1m> Finished chain.\u001b[0m\n"
     ]
    },
    {
     "data": {
      "text/plain": [
       "'I\\'m sorry, but there are no reviews provided by a patient with the identifier \"7674\" in the context given. If you have any other questions or need information about the reviews provided, feel free to ask.'"
      ]
     },
     "execution_count": 6,
     "metadata": {},
     "output_type": "execute_result"
    }
   ],
   "source": [
    "response = hospital_rag_agent_executor.invoke(\n",
    "    {\"input\": \"Show me reviews written by patient 7674.\"}\n",
    ")\n",
    "\n",
    "response.get(\"output\")"
   ]
  },
  {
   "cell_type": "code",
   "execution_count": 7,
   "metadata": {},
   "outputs": [
    {
     "name": "stdout",
     "output_type": "stream",
     "text": [
      "\n",
      "\n",
      "\u001b[1m> Entering new AgentExecutor chain...\u001b[0m\n",
      "\u001b[32;1m\u001b[1;3m\n",
      "Invoking: `Graph` with `Show me the reviews written by patient 7674.`\n",
      "\n",
      "\n",
      "\u001b[0m\n",
      "\n",
      "\u001b[1m> Entering new GraphCypherQAChain chain...\u001b[0m\n",
      "Generated Cypher:\n",
      "\u001b[32;1m\u001b[1;3mMATCH (p:Patient {id: 7674})-[:HAS]->(v:Visit)-[:WRITES]->(r:Review)\n",
      "RETURN r.text AS review_written\n",
      "\u001b[0m\n",
      "Full Context:\n",
      "\u001b[32;1m\u001b[1;3m[{'review_written': 'The hospital provided exceptional care, but the billing process was confusing and frustrating. Clearer communication about costs would have been appreciated.'}]\u001b[0m\n",
      "\n",
      "\u001b[1m> Finished chain.\u001b[0m\n",
      "\u001b[33;1m\u001b[1;3m{'query': 'Show me the reviews written by patient 7674.', 'result': 'Here is the review written by patient 7674: \\n\\n\"The hospital provided exceptional care, but the billing process was confusing and frustrating. Clearer communication about costs would have been appreciated.\"'}\u001b[0m\u001b[32;1m\u001b[1;3mPatient 7674 wrote the following review: \"The hospital provided exceptional care, but the billing process was confusing and frustrating. Clearer communication about costs would have been appreciated.\"\u001b[0m\n",
      "\n",
      "\u001b[1m> Finished chain.\u001b[0m\n"
     ]
    },
    {
     "data": {
      "text/plain": [
       "'Patient 7674 wrote the following review: \"The hospital provided exceptional care, but the billing process was confusing and frustrating. Clearer communication about costs would have been appreciated.\"'"
      ]
     },
     "execution_count": 7,
     "metadata": {},
     "output_type": "execute_result"
    }
   ],
   "source": [
    "response = hospital_rag_agent_executor.invoke(\n",
    "    {\n",
    "        \"input\": (\n",
    "            \"Query the graph database to show me \"\n",
    "            \"the reviews written by patient 7674.\"\n",
    "        )\n",
    "    }\n",
    ")\n",
    "\n",
    "response.get(\"output\")"
   ]
  },
  {
   "cell_type": "code",
   "execution_count": null,
   "metadata": {},
   "outputs": [],
   "source": []
  }
 ],
 "metadata": {
  "kernelspec": {
   "display_name": "Chatbot",
   "language": "python",
   "name": "python3"
  },
  "language_info": {
   "codemirror_mode": {
    "name": "ipython",
    "version": 3
   },
   "file_extension": ".py",
   "mimetype": "text/x-python",
   "name": "python",
   "nbconvert_exporter": "python",
   "pygments_lexer": "ipython3",
   "version": "3.11.8"
  }
 },
 "nbformat": 4,
 "nbformat_minor": 2
}
